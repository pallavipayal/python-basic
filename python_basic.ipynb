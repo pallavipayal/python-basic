{
  "nbformat": 4,
  "nbformat_minor": 0,
  "metadata": {
    "colab": {
      "provenance": []
    },
    "kernelspec": {
      "name": "python3",
      "display_name": "Python 3"
    },
    "language_info": {
      "name": "python"
    }
  },
  "cells": [
    {
      "cell_type": "markdown",
      "source": [
        "#Python basic Assignment"
      ],
      "metadata": {
        "id": "Dmx7G9U87R47"
      }
    },
    {
      "cell_type": "markdown",
      "source": [
        "###**1**.  what is python and why is it popular?"
      ],
      "metadata": {
        "id": "349dtpfA7Rkg"
      }
    },
    {
      "cell_type": "markdown",
      "source": [
        "\n",
        "=>  Python is high-level, interpreter programing language known for its simpilicty, readability, and vesatility. It was creater by Guido van Rossum and first released in 1991. Its combination of simpilicity, extensive libraries, and widespread community support makes python one of the most populer and powerful programing language."
      ],
      "metadata": {
        "id": "3M3UrmrK8iRu"
      }
    },
    {
      "cell_type": "markdown",
      "source": [
        "###2. What is an interpreter in Python?\n"
      ],
      "metadata": {
        "id": "-9Ryg3MGM5hS"
      }
    },
    {
      "cell_type": "markdown",
      "source": [
        "=> In Python, an interpreter is a crucial component that allows your Python code to be executed.\n",
        "\n",
        "A Python interpreter is a computer program that reads and executes your Python code line by line.\n",
        "\n",
        "It translates the high-level Python code you write into machine code that your computer's processor can understand."
      ],
      "metadata": {
        "id": "AuVXYDw8M5tM"
      }
    },
    {
      "cell_type": "markdown",
      "source": [
        "###3.What are pre-defined keywords in Python?"
      ],
      "metadata": {
        "id": "0K0ICM6fM5yg"
      }
    },
    {
      "cell_type": "markdown",
      "source": [
        "=> In Python, keywords are reserved words that have specific meanings and purposes within the language.\n",
        " These keywords cannot be used as identifiers (such as variable names, function names, or class names)."
      ],
      "metadata": {
        "id": "8RrCtIo5M52x"
      }
    },
    {
      "cell_type": "markdown",
      "source": [
        "###4.  Can keywords be used as variable names ?"
      ],
      "metadata": {
        "id": "5pX0ZHP9BziR"
      }
    },
    {
      "cell_type": "markdown",
      "source": [
        "=> In Python, keywords are reserved words with predefined meanings, and they absolutely cannot be used as variable names. Attempting to do so will result in a syntax error"
      ],
      "metadata": {
        "id": "tMieV4H09Ami"
      }
    },
    {
      "cell_type": "markdown",
      "source": [
        "###5. What is mutability in Python ?"
      ],
      "metadata": {
        "id": "EBuV8lcq9CMW"
      }
    },
    {
      "cell_type": "markdown",
      "source": [
        "=> In Python, \"mutability\" refers to whether or not the value of an object can be changed after it has been created."
      ],
      "metadata": {
        "id": "8LgUwhzO9CWC"
      }
    },
    {
      "cell_type": "markdown",
      "source": [
        "###6. Why are lists mutable, but tuples are immutable?"
      ],
      "metadata": {
        "id": "8zge_G9R9CbK"
      }
    },
    {
      "cell_type": "markdown",
      "source": [
        "=> The difference in mutability between lists and tuples in Python stems from their intended purposes and design choices, leading to distinct advantages in different scenarios.\n",
        "\n",
        "Lists (Mutable):\n",
        "\n",
        "Designed for Flexibility:\n",
        "Lists are built to be dynamic collections of items. You often need to add, remove, or modify elements during a program's execution.\n",
        "Their mutability allows for efficient manipulation of data that changes over time.\n",
        "\n",
        "Tuples (Immutable):\n",
        "\n",
        "Designed for Data Integrity:\n",
        "Tuples are intended for fixed collections of items that should not be altered after creation.\n",
        "Their immutability provides a guarantee that the data will remain constant, which is crucial in certain situations."
      ],
      "metadata": {
        "id": "XIkEQ5go9CgE"
      }
    },
    {
      "cell_type": "markdown",
      "source": [
        "###7. What is the difference between “==” and “is” operators in Python?"
      ],
      "metadata": {
        "id": "SmOZIKm49Ck7"
      }
    },
    {
      "cell_type": "markdown",
      "source": [
        "=> The key difference between the \"==\" and \"is\" operators in Python lies in what they compare:\n",
        "\n",
        "\"==\" (Equality Operator):\n",
        "\n",
        "This operator checks if the values of two objects are equal.\n",
        "It compares the content of the objects.\n",
        "If the objects have the same value, \"==\" returns True.\n",
        "It does not matter if the objects are stored in the same memory location.\n",
        "\"is\" (Identity Operator):\n",
        "\n",
        "This operator checks if two variables refer to the same object in memory.\n",
        "It compares the identity of the objects (their memory addresses).\n",
        "If two variables point to the exact same object, \"is\" returns True.\n",
        "Even if two objects have the same value, \"is\" will return False if they are distinct objects in memory."
      ],
      "metadata": {
        "id": "ihs3v64K9Cqy"
      }
    },
    {
      "cell_type": "markdown",
      "source": [
        "###8. What are logical operators in Python?"
      ],
      "metadata": {
        "id": "3W_jFlvh9CwL"
      }
    },
    {
      "cell_type": "markdown",
      "source": [
        "=> In Python, logical operators are used to combine conditional statements.\n",
        "They allow you to make more complex decisions in your code by evaluating multiple conditions."
      ],
      "metadata": {
        "id": "bpqJjIrd9C17"
      }
    },
    {
      "cell_type": "markdown",
      "source": [
        "###9. What is type casting in Python?"
      ],
      "metadata": {
        "id": "qM6ZKSgC9DKS"
      }
    },
    {
      "cell_type": "markdown",
      "source": [
        "=> In Python, type casting, also known as type conversion, is the process of changing the data type of a variable from one type to another. This allows you to perform operations that would otherwise be incompatible between different data types."
      ],
      "metadata": {
        "id": "M68XV7E-9DTb"
      }
    },
    {
      "cell_type": "markdown",
      "source": [],
      "metadata": {
        "id": "bGYzl9tR9DYU"
      }
    },
    {
      "cell_type": "markdown",
      "source": [
        "###10. What is the difference between implicit and explicit type casting?"
      ],
      "metadata": {
        "id": "Um2XkNTx9Ddj"
      }
    },
    {
      "cell_type": "markdown",
      "source": [
        "=> The fundamental difference between implicit and explicit type casting in Python boils down to who initiates the type conversion: the Python interpreter or the programmer.\n",
        "\n",
        "Implicit Type Casting (Coercion):\n",
        "\n",
        "Automatic Conversion:\n",
        "\n",
        "This is when the Python interpreter automatically converts one data type to another.\n",
        "It happens behind the scenes, without any explicit instruction from the programmer.\n",
        "Purpose:\n",
        "\n",
        "Python typically does this to avoid errors when performing operations involving mixed data types.\n",
        "It generally converts the \"lower\" data type to the \"higher\" data type to prevent data loss.\n",
        "\n",
        "Explicit Type Casting (Type Conversion):\n",
        "\n",
        "Manual Conversion:\n",
        "\n",
        "This is when the programmer explicitly uses built-in functions to convert a data type.\n",
        "You have to write code that specifically tells Python to change the data type.\n",
        "Purpose:\n",
        "\n",
        "It gives you precise control over the data type conversion.\n",
        "It's necessary when you want to convert data types in a specific way, especially when there's a risk of data loss or when dealing with user input."
      ],
      "metadata": {
        "id": "AsxD4VoQ9Dir"
      }
    },
    {
      "cell_type": "markdown",
      "source": [
        "###11. What is the purpose of conditional statements in Python?"
      ],
      "metadata": {
        "id": "vRa7TIk9A6_J"
      }
    },
    {
      "cell_type": "markdown",
      "source": [
        "=> Conditional statements in Python, like if, elif, and else, are fundamental control flow tools. Their purpose is to allow your program to make decisions and execute different blocks of code based on whether certain conditions are true or false."
      ],
      "metadata": {
        "id": "eSTNCk6uA7r6"
      }
    },
    {
      "cell_type": "markdown",
      "source": [
        "###12. How does the elif statement work?"
      ],
      "metadata": {
        "id": "ISz-0KfUA7w7"
      }
    },
    {
      "cell_type": "markdown",
      "source": [
        "=> The elif statement in Python is a crucial part of conditional logic, allowing you to check multiple conditions in a sequential manner.\n",
        "\n",
        "Python evaluates elif conditions in the order they appear. If the preceding if condition is false, Python moves on to check the first elif condition. If that elif condition is also false, it proceeds to the next elif (if any), and so on."
      ],
      "metadata": {
        "id": "VWoZB3NUA71k"
      }
    },
    {
      "cell_type": "markdown",
      "source": [
        "###13. What is the difference between for and while loops?"
      ],
      "metadata": {
        "id": "L0ttXKHBB93g"
      }
    },
    {
      "cell_type": "markdown",
      "source": [
        "=> Both for and while loops in Python are used for repetitive execution of code, but they differ in how they control that repetition.\n",
        "\n",
        "for Loop:\n",
        "\n",
        "Iteration Over a Sequence:\n",
        "The for loop is primarily used to iterate over a sequence (like a list, tuple, string, or range) or other iterable objects.\n",
        "It executes a block of code for each item in the sequence.\n",
        "\n",
        "while Loop:\n",
        "\n",
        "Condition-Based Repetition:\n",
        "The while loop executes a block of code as long as a specified condition is true.\n",
        "It continues to loop until the condition becomes false.\n",
        "Unknown Number of Iterations:\n",
        "You use a while loop when you don't know in advance how many times the loop needs to execute.\n",
        "It is very important to make sure that the condition will eventually become false, or you will create an infinite loop."
      ],
      "metadata": {
        "id": "oukpvPFZB-Q_"
      }
    },
    {
      "cell_type": "markdown",
      "source": [
        "###14. Describe a scenario where a while loop is more suitable than a for loop."
      ],
      "metadata": {
        "id": "AmQ69s6WB_dC"
      }
    },
    {
      "cell_type": "markdown",
      "source": [
        "=> A while loop is more suitable than a for loop in scenarios where the number of iterations is unknown and depends on a condition being met, rather than iterating through a predefined sequence.\n",
        "\n",
        "a for loop would be inappropriate because you don't know how many iterations will be needed. The while loop, with its condition-based repetition, is the perfect tool for handling this type of user input validation."
      ],
      "metadata": {
        "id": "_bRQlWBIB_sJ"
      }
    },
    {
      "cell_type": "code",
      "execution_count": null,
      "metadata": {
        "id": "xzxWAX5o8f9J",
        "colab": {
          "base_uri": "https://localhost:8080/"
        },
        "outputId": "aba92407-9ba0-4e77-ea25-8161d17c7623"
      },
      "outputs": [
        {
          "output_type": "stream",
          "name": "stdout",
          "text": [
            "Hello, World!\n"
          ]
        }
      ],
      "source": [
        "#1.\n",
        "\n",
        "print(\"Hello, World!\")"
      ]
    },
    {
      "cell_type": "code",
      "source": [
        "#2.\n",
        "\n",
        "name = \"pallavi payal\"\n",
        "age = 24\n",
        "\n",
        "print(\"Name:\", name)\n",
        "print(\"Age:\", age)"
      ],
      "metadata": {
        "colab": {
          "base_uri": "https://localhost:8080/"
        },
        "id": "bxGvQz9GDYZz",
        "outputId": "ebc6a20c-101c-40e1-c902-731308091795"
      },
      "execution_count": null,
      "outputs": [
        {
          "output_type": "stream",
          "name": "stdout",
          "text": [
            "Name: pallavi payal\n",
            "Age: 24\n"
          ]
        }
      ]
    },
    {
      "cell_type": "code",
      "source": [
        "#3.\n",
        "import keyword\n",
        "\n",
        "print(\"Python Keywords:\")\n",
        "for kw in keyword.kwlist:\n",
        "    print(kw)"
      ],
      "metadata": {
        "colab": {
          "base_uri": "https://localhost:8080/"
        },
        "id": "4AILSOoZDYnC",
        "outputId": "4a08c9ac-ff99-49f0-e1a7-54b69fde4bee"
      },
      "execution_count": null,
      "outputs": [
        {
          "output_type": "stream",
          "name": "stdout",
          "text": [
            "Python Keywords:\n",
            "False\n",
            "None\n",
            "True\n",
            "and\n",
            "as\n",
            "assert\n",
            "async\n",
            "await\n",
            "break\n",
            "class\n",
            "continue\n",
            "def\n",
            "del\n",
            "elif\n",
            "else\n",
            "except\n",
            "finally\n",
            "for\n",
            "from\n",
            "global\n",
            "if\n",
            "import\n",
            "in\n",
            "is\n",
            "lambda\n",
            "nonlocal\n",
            "not\n",
            "or\n",
            "pass\n",
            "raise\n",
            "return\n",
            "try\n",
            "while\n",
            "with\n",
            "yield\n"
          ]
        }
      ]
    },
    {
      "cell_type": "code",
      "source": [
        "#4.\n",
        "\n",
        "import keyword\n",
        "\n",
        "def is_python_keyword(word):\n",
        "  \"\"\"\n",
        "  Checks if a given word is a Python keyword.\n",
        "\n",
        "  Args:\n",
        "    word (str): The word to check.\n",
        "\n",
        "  Returns:\n",
        "    bool: True if the word is a Python keyword, False otherwise.\n",
        "  \"\"\"\n",
        "\n",
        "  return keyword.iskeyword(word)\n",
        "\n",
        "\n",
        "word1 = \"if\"\n",
        "word2 = \"else\"\n",
        "word3 = \"python\"\n",
        "word4 = \"for\"\n",
        "word5 = \"while\"\n",
        "word6 = \"my_variable\"\n",
        "word7 = \"def\"\n",
        "word8 = \"class\"\n",
        "\n",
        "print(f\"'{word1}' is a Python keyword: {is_python_keyword(word1)}\")\n",
        "print(f\"'{word2}' is a Python keyword: {is_python_keyword(word2)}\")\n",
        "print(f\"'{word3}' is a Python keyword: {is_python_keyword(word3)}\")\n",
        "print(f\"'{word4}' is a Python keyword: {is_python_keyword(word4)}\")\n",
        "print(f\"'{word5}' is a Python keyword: {is_python_keyword(word5)}\")\n",
        "print(f\"'{word6}' is a Python keyword: {is_python_keyword(word6)}\")\n",
        "print(f\"'{word7}' is a Python keyword: {is_python_keyword(word7)}\")\n",
        "print(f\"'{word8}' is a Python keyword: {is_python_keyword(word8)}\")\n",
        "\n",
        "print(\"\\nList of all Python keywords:\")\n",
        "print(keyword.kwlist)\n"
      ],
      "metadata": {
        "id": "fKbq5mr9DYx9",
        "colab": {
          "base_uri": "https://localhost:8080/"
        },
        "outputId": "12050084-98be-419f-8cc8-24173dab7853"
      },
      "execution_count": null,
      "outputs": [
        {
          "output_type": "stream",
          "name": "stdout",
          "text": [
            "'if' is a Python keyword: True\n",
            "'else' is a Python keyword: True\n",
            "'python' is a Python keyword: False\n",
            "'for' is a Python keyword: True\n",
            "'while' is a Python keyword: True\n",
            "'my_variable' is a Python keyword: False\n",
            "'def' is a Python keyword: True\n",
            "'class' is a Python keyword: True\n",
            "\n",
            "List of all Python keywords:\n",
            "['False', 'None', 'True', 'and', 'as', 'assert', 'async', 'await', 'break', 'class', 'continue', 'def', 'del', 'elif', 'else', 'except', 'finally', 'for', 'from', 'global', 'if', 'import', 'in', 'is', 'lambda', 'nonlocal', 'not', 'or', 'pass', 'raise', 'return', 'try', 'while', 'with', 'yield']\n"
          ]
        }
      ]
    },
    {
      "cell_type": "code",
      "source": [
        "#5\n",
        "\n",
        "my_list = [10, 20, 30, 40]\n",
        "print(f\"Original list: {my_list}\")\n",
        "\n",
        "my_list[1] = 25\n",
        "print(f\"List after attempting to change an element: {my_list}\")\n",
        "\n",
        "my_tuple = (10, 20, 30, 40)\n",
        "print(f\"Original tuple: {my_tuple}\")\n",
        "\n",
        "try:\n",
        "    my_tuple[1] = 25\n",
        "except TypeError as e:\n",
        "    print(f\"Error when attempting to change an element in the tuple: {e}\")"
      ],
      "metadata": {
        "id": "OoPissHNDY2V",
        "colab": {
          "base_uri": "https://localhost:8080/"
        },
        "outputId": "df1fa294-098a-43bb-c6ad-cd764a66ae5e"
      },
      "execution_count": null,
      "outputs": [
        {
          "output_type": "stream",
          "name": "stdout",
          "text": [
            "Original list: [10, 20, 30, 40]\n",
            "List after attempting to change an element: [10, 25, 30, 40]\n",
            "Original tuple: (10, 20, 30, 40)\n",
            "Error when attempting to change an element in the tuple: 'tuple' object does not support item assignment\n"
          ]
        }
      ]
    },
    {
      "cell_type": "code",
      "source": [
        "#6\n",
        "def modify_arguments(immutable_arg, mutable_arg):\n",
        "    print(\"Inside function before modification:\")\n",
        "    print(f\"  immutable_arg: {immutable_arg}\")\n",
        "    print(f\"  mutable_arg: {mutable_arg}\")\n",
        "\n",
        "    immutable_arg += 1\n",
        "    mutable_arg.append(4)\n",
        "\n",
        "    print(\"Inside function after modification:\")\n",
        "    print(f\"  immutable_arg: {immutable_arg}\")\n",
        "    print(f\"  mutable_arg: {mutable_arg}\")\n",
        "\n",
        "\n",
        "x = 10\n",
        "\n",
        "y = [1, 2, 3]\n",
        "\n",
        "print(\"Before function call:\")\n",
        "print(f\"x: {x}\")\n",
        "print(f\"y: {y}\")\n",
        "\n",
        "modify_arguments(x, y)\n",
        "\n",
        "print(\"After function call:\")\n",
        "print(f\"x: {x}  # Unchanged (immutable)\")\n",
        "print(f\"y: {y}  # Changed (mutable)\")"
      ],
      "metadata": {
        "id": "IEQs2ov3DY6I",
        "colab": {
          "base_uri": "https://localhost:8080/"
        },
        "outputId": "dd53ff2f-16d5-47ed-ad53-677cd654a4dd"
      },
      "execution_count": null,
      "outputs": [
        {
          "output_type": "stream",
          "name": "stdout",
          "text": [
            "Before function call:\n",
            "x: 10\n",
            "y: [1, 2, 3]\n",
            "Inside function before modification:\n",
            "  immutable_arg: 10\n",
            "  mutable_arg: [1, 2, 3]\n",
            "Inside function after modification:\n",
            "  immutable_arg: 11\n",
            "  mutable_arg: [1, 2, 3, 4]\n",
            "After function call:\n",
            "x: 10  # Unchanged (immutable)\n",
            "y: [1, 2, 3, 4]  # Changed (mutable)\n"
          ]
        }
      ]
    },
    {
      "cell_type": "code",
      "source": [
        "#7\n",
        "def perform_arithmetic_operations():\n",
        "    \"\"\"\n",
        "    Prompts the user for two numbers and an arithmetic operation,\n",
        "    then performs the calculation and displays the result.\n",
        "    Handles invalid input and division by zero.\n",
        "    \"\"\"\n",
        "    print(\"Welcome to the Basic Arithmetic Calculator!\")\n",
        "\n",
        "    while True:\n",
        "        num1_str = input(\"Enter the first number: \")\n",
        "        try:\n",
        "            num1 = float(num1_str)\n",
        "            break\n",
        "        except ValueError:\n",
        "            print(\"Invalid input. Please enter a valid number.\")\n",
        "\n",
        "    while True:\n",
        "        num2_str = input(\"Enter the second number: \")\n",
        "        try:\n",
        "            num2 = float(num2_str)\n",
        "            break\n",
        "        except ValueError:\n",
        "            print(\"Invalid input. Please enter a valid number.\")\n",
        "\n",
        "    print(\"\\nSelect an operation:\")\n",
        "    print(\"  1. Addition (+)\")\n",
        "    print(\"  2. Subtraction (-)\")\n",
        "    print(\"  3. Multiplication (*)\")\n",
        "    print(\"  4. Division (/)\")\n",
        "\n",
        "    while True:\n",
        "        operation_choice = input(\"Enter your choice (1/2/3/4): \").strip()\n",
        "        if operation_choice in ['1', '2', '3', '4']:\n",
        "            break\n",
        "        else:\n",
        "            print(\"Invalid choice. Please enter 1, 2, 3, or 4.\")\n",
        "\n",
        "    result = None\n",
        "    operation_symbol = \"\"\n",
        "\n",
        "    if operation_choice == '1':\n",
        "        result = num1 + num2\n",
        "        operation_symbol = \"+\"\n",
        "    elif operation_choice == '2':\n",
        "        result = num1 - num2\n",
        "        operation_symbol = \"-\"\n",
        "    elif operation_choice == '3':\n",
        "        result = num1 * num2\n",
        "        operation_symbol = \"*\"\n",
        "    elif operation_choice == '4':\n",
        "        if num2 == 0:\n",
        "            print(\"Error: Division by zero is not allowed.\")\n",
        "            return\n",
        "        result = num1 / num2\n",
        "        operation_symbol = \"/\"\n",
        "\n",
        "    if result is not None:\n",
        "        print(f\"\\nResult: {num1} {operation_symbol} {num2} = {result}\")\n",
        "\n",
        "if __name__ == \"__main__\":\n",
        "    perform_arithmetic_operations()\n"
      ],
      "metadata": {
        "id": "7xN3XYAtlrsr",
        "colab": {
          "base_uri": "https://localhost:8080/"
        },
        "outputId": "ef99dbe7-cae4-4cc3-87b2-e34f7007cab4"
      },
      "execution_count": 11,
      "outputs": [
        {
          "output_type": "stream",
          "name": "stdout",
          "text": [
            "Welcome to the Basic Arithmetic Calculator!\n",
            "Enter the first number: 78\n",
            "Enter the second number: 789\n",
            "\n",
            "Select an operation:\n",
            "  1. Addition (+)\n",
            "  2. Subtraction (-)\n",
            "  3. Multiplication (*)\n",
            "  4. Division (/)\n",
            "Enter your choice (1/2/3/4): 3\n",
            "\n",
            "Result: 78.0 * 789.0 = 61542.0\n"
          ]
        }
      ]
    },
    {
      "cell_type": "code",
      "source": [
        "#8\n",
        "# Logical Operators Demonstration\n",
        "\n",
        "# Input from user\n",
        "a = int(input(\"Enter first number (a): \"))\n",
        "b = int(input(\"Enter second number (b): \"))\n",
        "\n",
        "# Using 'and' operator\n",
        "if a > 0 and b > 0:\n",
        "    print(\"Both numbers are positive.\")\n",
        "\n",
        "# Using 'or' operator\n",
        "if a > 0 or b > 0:\n",
        "    print(\"At least one number is positive.\")\n",
        "\n",
        "# Using 'not' operator\n",
        "if not (a < 0 or b < 0):\n",
        "    print(\"Neither number is negative.\")\n",
        "else:\n",
        "    print(\"At least one number is negative.\")\n",
        "\n"
      ],
      "metadata": {
        "id": "TCDQ-uMJlrfz",
        "colab": {
          "base_uri": "https://localhost:8080/"
        },
        "outputId": "27cab403-0ed9-4514-d47b-3b77271956f6"
      },
      "execution_count": 10,
      "outputs": [
        {
          "output_type": "stream",
          "name": "stdout",
          "text": [
            "Enter first number (a): 9\n",
            "Enter second number (b): -5\n",
            "At least one number is positive.\n",
            "At least one number is negative.\n"
          ]
        }
      ]
    },
    {
      "cell_type": "code",
      "source": [
        "#9\n",
        "def convert_input_types():\n",
        "    \"\"\"\n",
        "    Prompts the user for a string input and attempts to convert it\n",
        "    to integer, float, and boolean types, handling potential errors.\n",
        "    \"\"\"\n",
        "    user_input = input(\"Please enter a value (e.g., '123', '3.14', 'true', 'false'): \")\n",
        "\n",
        "    print(f\"\\nOriginal input: '{user_input}' (Type: {type(user_input)})\")\n",
        "\n",
        "    try:\n",
        "        int_value = int(user_input)\n",
        "        print(f\"Converted to Integer: {int_value} (Type: {type(int_value)})\")\n",
        "    except ValueError:\n",
        "        print(f\"Could not convert '{user_input}' to Integer.\")\n",
        "\n",
        "    try:\n",
        "        float_value = float(user_input)\n",
        "        print(f\"Converted to Float: {float_value} (Type: {type(float_value)})\")\n",
        "    except ValueError:\n",
        "        print(f\"Could not convert '{user_input}' to Float.\")\n",
        "\n",
        "    boolean_value = False\n",
        "    if isinstance(user_input, str):\n",
        "        normalized_input = user_input.strip().lower()\n",
        "        if normalized_input in ['true', 'yes', '1', 't']:\n",
        "            boolean_value = True\n",
        "\n",
        "    elif isinstance(user_input, bool):\n",
        "        boolean_value = user_input\n",
        "\n",
        "    elif isinstance(user_input, (int, float)):\n",
        "        if user_input != 0:\n",
        "            boolean_value = True\n",
        "\n",
        "    print(f\"Converted to Boolean: {boolean_value} (Type: {type(boolean_value)})\")\n",
        "\n",
        "if __name__ == \"__main__\":\n",
        "    convert_input_types()\n"
      ],
      "metadata": {
        "id": "T_qKKJ7NDZK5",
        "colab": {
          "base_uri": "https://localhost:8080/"
        },
        "outputId": "4141b718-0841-46d6-efc6-db9ab2fe714d"
      },
      "execution_count": 7,
      "outputs": [
        {
          "output_type": "stream",
          "name": "stdout",
          "text": [
            "Please enter a value (e.g., '123', '3.14', 'true', 'false'): 34.8\n",
            "\n",
            "Original input: '34.8' (Type: <class 'str'>)\n",
            "Could not convert '34.8' to Integer.\n",
            "Converted to Float: 34.8 (Type: <class 'float'>)\n",
            "Converted to Boolean: False (Type: <class 'bool'>)\n"
          ]
        }
      ]
    },
    {
      "cell_type": "code",
      "source": [
        "#10\n",
        "\n",
        "str_list = ['10', '20', '30', '0', '', '3.14', 'True', 'False']\n",
        "\n",
        "print(\"Original list (strings):\", str_list)\n",
        "\n",
        "int_list = []\n",
        "for item in str_list:\n",
        "    try:\n",
        "        int_list.append(int(item))\n",
        "    except ValueError:\n",
        "        int_list.append(None)\n",
        "print(\"Converted to integers (where possible):\", int_list)\n",
        "\n",
        "float_list = []\n",
        "for item in str_list:\n",
        "    try:\n",
        "        float_list.append(float(item))\n",
        "    except ValueError:\n",
        "        float_list.append(None)\n",
        "print(\"Converted to floats (where possible):\", float_list)\n",
        "\n",
        "bool_list = [bool(item) for item in str_list]\n",
        "print(\"Converted to booleans:\", bool_list)"
      ],
      "metadata": {
        "id": "aE7cMlTXDZQK",
        "colab": {
          "base_uri": "https://localhost:8080/"
        },
        "outputId": "02cbad39-56c7-43ea-b05f-e5b2282432a7"
      },
      "execution_count": 6,
      "outputs": [
        {
          "output_type": "stream",
          "name": "stdout",
          "text": [
            "Original list (strings): ['10', '20', '30', '0', '', '3.14', 'True', 'False']\n",
            "Converted to integers (where possible): [10, 20, 30, 0, None, None, None, None]\n",
            "Converted to floats (where possible): [10.0, 20.0, 30.0, 0.0, None, 3.14, None, None]\n",
            "Converted to booleans: [True, True, True, True, False, True, True, True]\n"
          ]
        }
      ]
    },
    {
      "cell_type": "code",
      "source": [
        "#11\n",
        "\n",
        "num = float(input(\"Enter a number: \"))\n",
        "\n",
        "if num > 0:\n",
        "    print(\"The number is positive.\")\n",
        "elif num < 0:\n",
        "    print(\"The number is negative.\")\n",
        "else:\n",
        "    print(\"The number is zero.\")"
      ],
      "metadata": {
        "id": "aMKokyktDZUJ",
        "colab": {
          "base_uri": "https://localhost:8080/"
        },
        "outputId": "c938a0d2-640c-4837-b227-b171ebed11d7"
      },
      "execution_count": 5,
      "outputs": [
        {
          "output_type": "stream",
          "name": "stdout",
          "text": [
            "Enter a number: 78.7\n",
            "The number is positive.\n"
          ]
        }
      ]
    },
    {
      "cell_type": "code",
      "source": [
        "#12\n",
        "\n",
        "for i in range(1, 11):\n",
        "    print(i)"
      ],
      "metadata": {
        "id": "rGnFybxwDZYe",
        "colab": {
          "base_uri": "https://localhost:8080/"
        },
        "outputId": "ad216acf-f75c-447f-eeaf-0a546221a629"
      },
      "execution_count": 1,
      "outputs": [
        {
          "output_type": "stream",
          "name": "stdout",
          "text": [
            "1\n",
            "2\n",
            "3\n",
            "4\n",
            "5\n",
            "6\n",
            "7\n",
            "8\n",
            "9\n",
            "10\n"
          ]
        }
      ]
    },
    {
      "cell_type": "code",
      "source": [
        "#13\n",
        "\n",
        "even_sum = 0\n",
        "\n",
        "for i in range(1, 51):\n",
        "    if i % 2 == 0:\n",
        "        even_sum += i\n",
        "\n",
        "print(\"Sum of even numbers from 1 to 50 is:\", even_sum)"
      ],
      "metadata": {
        "id": "DXmUyPd6DZe8",
        "colab": {
          "base_uri": "https://localhost:8080/"
        },
        "outputId": "f6ccf8b5-b9ce-4cdc-d77d-8c82490d37e3"
      },
      "execution_count": 4,
      "outputs": [
        {
          "output_type": "stream",
          "name": "stdout",
          "text": [
            "Sum of even numbers from 1 to 50 is: 650\n"
          ]
        }
      ]
    },
    {
      "cell_type": "code",
      "source": [
        "#14\n",
        "\n",
        "text = input(\"Enter a string: \")\n",
        "\n",
        "reversed_text = \"\"\n",
        "index = len(text) - 1\n",
        "\n",
        "while index >= 0:\n",
        "    reversed_text += text[index]\n",
        "    index -= 1\n",
        "\n",
        "print(\"Reversed string:\", reversed_text)"
      ],
      "metadata": {
        "colab": {
          "base_uri": "https://localhost:8080/"
        },
        "id": "UXGd2TsAsf3p",
        "outputId": "a4127dbf-9dbb-4eff-8d6b-bb72ed470f68"
      },
      "execution_count": 4,
      "outputs": [
        {
          "output_type": "stream",
          "name": "stdout",
          "text": [
            "Enter a string: hi\n",
            "Reversed string: ih\n"
          ]
        }
      ]
    },
    {
      "cell_type": "code",
      "source": [
        "#15\n",
        "# Input from the user\n",
        "num = int(input(\"Enter a non-negative integer: \"))\n",
        "\n",
        "# Validate input\n",
        "if num < 0:\n",
        "    print(\"Factorial is not defined for negative numbers.\")\n",
        "else:\n",
        "    factorial = 1\n",
        "    i = 1\n",
        "\n",
        "    # Calculate factorial using while loop\n",
        "    while i <= num:\n",
        "        factorial *= i\n",
        "        i += 1\n",
        "\n",
        "    # Output the result\n",
        "    print(f\"The factorial of {num} is {factorial}.\")"
      ],
      "metadata": {
        "colab": {
          "base_uri": "https://localhost:8080/"
        },
        "id": "O5nSQJE2sft4",
        "outputId": "f44dc1c1-b59f-41fe-ef90-e1ceede19c4a"
      },
      "execution_count": 3,
      "outputs": [
        {
          "output_type": "stream",
          "name": "stdout",
          "text": [
            "Enter a non-negative integer: 5\n",
            "The factorial of 5 is 120.\n"
          ]
        }
      ]
    }
  ]
}